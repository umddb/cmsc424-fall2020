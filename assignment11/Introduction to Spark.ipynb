{
 "cells": [
  {
   "cell_type": "markdown",
   "metadata": {},
   "source": [
    "This Notebook shows introduces the basic concepts of RDDs and operations on them visually, by showing the contents of the RDDs as a table.\n",
    "\n",
    "**Note: If you are looking at this in GitHub, you may not be able to see the HTML tables. Make sure to use the nbviewer link: http://nbviewer.jupyter.org/github/umddb/cmsc424-fall2016/tree/master/**\n",
    "\n",
    "### Introduction\n",
    "\n",
    "Apache Spark is a relatively new cluster computing framework, developed originally at UC Berkeley. It significantly generalizes the 2-stage Map-Reduce paradigm (originally proposed by Google and popularized by open-source Hadoop system); Spark is instead based on the abstraction of **resilient distributed datasets (RDDs)**. An RDD is basically a distributed collection of items, that can be created in a variety of ways. Spark provides a set of operations to transform one or more RDDs into an output RDD, and analysis tasks are written as chains of these operations."
   ]
  },
  {
   "cell_type": "markdown",
   "metadata": {},
   "source": [
    "### Display RDD\n",
    "The following helper functions displays the current contents of an RDD (partition-by-partition). This is best used for small RDDs with manageable number of partitions."
   ]
  },
  {
   "cell_type": "code",
   "execution_count": 1,
   "metadata": {},
   "outputs": [],
   "source": [
    "class DisplayRDD:\n",
    "        def __init__(self, rdd):\n",
    "                self.rdd = rdd\n",
    "\n",
    "        def _repr_html_(self):                                  \n",
    "                x = self.rdd.mapPartitionsWithIndex(lambda i, x: [(i, [y for y in x])])\n",
    "                l = x.collect()\n",
    "                s = \"<table><tr>{}</tr><tr><td>\".format(\"\".join([\"<th>Partition {}\".format(str(j)) for (j, r) in l]))\n",
    "                s += '</td><td valign=\"bottom\" halignt=\"left\">'.join([\"<ul><li>{}</ul>\".format(\"<li>\".join([str(rr) for rr in r])) for (j, r) in l])\n",
    "                s += \"</td></table>\"\n",
    "                return s"
   ]
  },
  {
   "cell_type": "markdown",
   "metadata": {
    "collapsed": true
   },
   "source": [
    "### Basics 1\n",
    "Lets start with some basic operations using a small RDD to visualize what's going on. We will create a RDD of Strings, using the `states.txt` file which contains a list of the state names.\n",
    "\n",
    "The notebook has already initialized a SparkContext, and we can refer to it as `sc`.\n",
    "\n",
    "We will use `sc.textFile` to create this RDD. This operations reads the file and treats every line as a separate object. We will use DisplayRDD() to visualize it. The second argument of `sc.textFile` is the number of partitions. We will set this as 10 to get started. If we don't do that, Spark will only create a single partition given the file is pretty small."
   ]
  },
  {
   "cell_type": "code",
   "execution_count": 3,
   "metadata": {},
   "outputs": [
    {
     "data": {
      "text/html": [
       "<table><tr><th>Partition 0<th>Partition 1<th>Partition 2<th>Partition 3<th>Partition 4</tr><tr><td><ul><li>Alabama<li>Hawaii<li>Massachusetts<li>New Mexico<li>South Dakota<li>Alaska<li>Idaho<li>Michigan<li>New York<li>Tennessee<li>Arizona</ul></td><td valign=\"bottom\" halignt=\"left\"><ul><li>Illinois<li>Minnesota<li>North Carolina<li>Texas<li>Arkansas<li>Indiana<li>Mississippi<li>North Dakota<li>Utah</ul></td><td valign=\"bottom\" halignt=\"left\"><ul><li>California<li>Iowa<li>Missouri<li>Ohio<li>Vermont<li>Colorado<li>Kansas<li>Montana<li>Oklahoma<li>Virginia<li>Connecticut<li>Kentucky</ul></td><td valign=\"bottom\" halignt=\"left\"><ul><li>Nebraska<li>Oregon<li>Washington<li>Delaware<li>Louisiana<li>Nevada<li>Pennsylvania<li>West Virginia<li>Florida</ul></td><td valign=\"bottom\" halignt=\"left\"><ul><li>Maine<li>New Hampshire<li>Rhode Island<li>Wisconsin<li>Georgia<li>Maryland<li>New Jersey<li>South Carolina<li>Wyoming</ul></td></table>"
      ],
      "text/plain": [
       "<__main__.DisplayRDD at 0x7f77cc44bd30>"
      ]
     },
     "execution_count": 3,
     "metadata": {},
     "output_type": "execute_result"
    }
   ],
   "source": [
    "states_rdd = sc.textFile('states.txt', 5)\n",
    "DisplayRDD(states_rdd)"
   ]
  },
  {
   "cell_type": "markdown",
   "metadata": {},
   "source": [
    "The above table shows the contents of each partition as a list -- so the first Partition has 5 elements in it ('Alabama', ...). We can `repartition` the RDD to get a fewer partitions so it will be easier to see."
   ]
  },
  {
   "cell_type": "code",
   "execution_count": null,
   "metadata": {},
   "outputs": [],
   "source": [
    "states_rdd = states_rdd.repartition(5)\n",
    "DisplayRDD(states_rdd)"
   ]
  },
  {
   "cell_type": "markdown",
   "metadata": {},
   "source": [
    "Let's do a transformation where we convert a string to a 2-tuple, where the second value is the length of the string. We will just use a `map` for this -- we have to provide a function as the input that transforms each element of the RDD. In this case, we are using the `lambda` keyword to define a function inline. See here: https://pythonconquerstheuniverse.wordpress.com/2011/08/29/lambda_tutorial/ for a tutorial on lambda functions.\n",
    "\n",
    "The below lambda function is simply taking in a string: s, and returning a 2-tuple: (s, len(s))"
   ]
  },
  {
   "cell_type": "code",
   "execution_count": 4,
   "metadata": {},
   "outputs": [
    {
     "data": {
      "text/html": [
       "<table><tr><th>Partition 0<th>Partition 1<th>Partition 2<th>Partition 3<th>Partition 4</tr><tr><td><ul><li>('Alabama', 7)<li>('Hawaii', 6)<li>('Massachusetts', 13)<li>('New Mexico', 10)<li>('South Dakota', 12)<li>('Alaska', 6)<li>('Idaho', 5)<li>('Michigan', 8)<li>('New York', 8)<li>('Tennessee', 9)<li>('Arizona', 7)</ul></td><td valign=\"bottom\" halignt=\"left\"><ul><li>('Illinois', 8)<li>('Minnesota', 9)<li>('North Carolina', 14)<li>('Texas', 5)<li>('Arkansas', 8)<li>('Indiana', 7)<li>('Mississippi', 11)<li>('North Dakota', 12)<li>('Utah', 4)</ul></td><td valign=\"bottom\" halignt=\"left\"><ul><li>('California', 10)<li>('Iowa', 4)<li>('Missouri', 8)<li>('Ohio', 4)<li>('Vermont', 7)<li>('Colorado', 8)<li>('Kansas', 6)<li>('Montana', 7)<li>('Oklahoma', 8)<li>('Virginia', 8)<li>('Connecticut', 11)<li>('Kentucky', 8)</ul></td><td valign=\"bottom\" halignt=\"left\"><ul><li>('Nebraska', 8)<li>('Oregon', 6)<li>('Washington', 10)<li>('Delaware', 8)<li>('Louisiana', 9)<li>('Nevada', 6)<li>('Pennsylvania', 12)<li>('West Virginia', 13)<li>('Florida', 7)</ul></td><td valign=\"bottom\" halignt=\"left\"><ul><li>('Maine', 5)<li>('New Hampshire', 13)<li>('Rhode Island', 12)<li>('Wisconsin', 9)<li>('Georgia', 7)<li>('Maryland', 8)<li>('New Jersey', 10)<li>('South Carolina', 14)<li>('Wyoming', 7)</ul></td></table>"
      ],
      "text/plain": [
       "<__main__.DisplayRDD at 0x7f77cc3bd748>"
      ]
     },
     "execution_count": 4,
     "metadata": {},
     "output_type": "execute_result"
    }
   ],
   "source": [
    "states1 = states_rdd.map(lambda s: (s, len(s)))\n",
    "DisplayRDD(states1)"
   ]
  },
  {
   "cell_type": "markdown",
   "metadata": {},
   "source": [
    "Lets collect all the names with the same length together using a group by operation. \n",
    "```\n",
    "groupByKey([numTasks]) \tWhen called on a dataset of (K, V) pairs, returns a dataset of (K, Iterable<V>) pairs. \n",
    "```\n",
    "This wouldn't work as is, because `states1` is using the name as the key. Let's change that around."
   ]
  },
  {
   "cell_type": "code",
   "execution_count": null,
   "metadata": {},
   "outputs": [],
   "source": [
    "states2 = states1.map(lambda t: (t[1], t[0]))\n",
    "DisplayRDD(states2)"
   ]
  },
  {
   "cell_type": "markdown",
   "metadata": {},
   "source": [
    "Note above that Spark did not do a shuffle to ensure that the same `keys` end up on the same partition. In fact, the `map` operation does not do a shuffle. \n",
    "\n",
    "Now we can do a groupByKey. "
   ]
  },
  {
   "cell_type": "code",
   "execution_count": null,
   "metadata": {},
   "outputs": [],
   "source": [
    "states3 = states2.groupByKey()\n",
    "DisplayRDD(states3)"
   ]
  },
  {
   "cell_type": "markdown",
   "metadata": {},
   "source": [
    "That looks weird... it seems to have done a group by, but we are missing the groups themselves. This is because the type of the value is a `pyspark.resultiterable.ResultIterable` which our DisplayRDD code does not translate into strings. We can fix that by converting the `values` to lists, and then doing DisplayRDD."
   ]
  },
  {
   "cell_type": "code",
   "execution_count": null,
   "metadata": {},
   "outputs": [],
   "source": [
    "DisplayRDD(states3.mapValues(list))"
   ]
  },
  {
   "cell_type": "markdown",
   "metadata": {},
   "source": [
    "There it goes. Now we can see that the operation properly grouped together the state names by their lengths. This operation required a `shuffle` since originally all names with length, say 10, were all over the place.\n",
    "\n",
    "`groupByKey` does not reduce the size of the RDD. If we were interested in `counting` the number of states with a given length (i.e., a `group by count` query), we can use `reduceByKey` instead. However that requires us to do a map first."
   ]
  },
  {
   "cell_type": "code",
   "execution_count": null,
   "metadata": {
    "scrolled": true
   },
   "outputs": [],
   "source": [
    "states4 = states2.mapValues(lambda x: 1)\n",
    "DisplayRDD(states4)"
   ]
  },
  {
   "cell_type": "markdown",
   "metadata": {},
   "source": [
    "`reduceByKey` takes in a single reduce function as the input which tells us what to do with any two values. In this case, we are simply going to use sum them up."
   ]
  },
  {
   "cell_type": "code",
   "execution_count": null,
   "metadata": {},
   "outputs": [],
   "source": [
    "DisplayRDD(states4.reduceByKey(lambda v1, v2: v1 + v2))"
   ]
  },
  {
   "cell_type": "markdown",
   "metadata": {},
   "source": [
    "These operations could be done faster through using `aggregateByKey`, but the syntax takes some getting used to. `aggregateByKey` takes a `start` value, a function that tells it what to do for a given element in the RDD, and another reduce function. "
   ]
  },
  {
   "cell_type": "code",
   "execution_count": null,
   "metadata": {},
   "outputs": [],
   "source": [
    "DisplayRDD(states2.aggregateByKey(0, lambda k, v: k+1, lambda v1, v2: v1+v2))"
   ]
  },
  {
   "cell_type": "markdown",
   "metadata": {},
   "source": [
    "### Basics 2: FlatMap\n",
    "\n",
    "Unlike a `map`, the function used for `flatMap` returns a list -- this is used to allow for the possibility that we will generate different numbers of outputs for different elements. Here is an example where we split each string in `states_rdd` into multiple substrings.\n",
    "\n",
    "The lambda function below splits a string into chunks of size 5: so 'South Dakota' gets split into 'South', ' Dako', 'ta', and so on. The lambda function itself returns a list. If you try this with 'map' the result would not be the same."
   ]
  },
  {
   "cell_type": "code",
   "execution_count": null,
   "metadata": {},
   "outputs": [],
   "source": [
    "DisplayRDD(states_rdd.flatMap(lambda x: [str(x[i:i+5]) for i in range(0, len(x), 5)]))"
   ]
  },
  {
   "cell_type": "markdown",
   "metadata": {},
   "source": [
    "### Basics 3: Joins\n",
    "\n",
    "Finally, lets look at an example of joins. We will still use small RDDs, but we now need two of them. We will just use `sc.parallelize` to create those RDDs. That functions takes in a list and creates an RDD of that by creating partitions and splitting them across machines. It takes the number of partitions as the second argument (optional).\n",
    "\n",
    "Note again that Spark made no attempt to co-locate the objects (i.e., the tuples) with the same key."
   ]
  },
  {
   "cell_type": "code",
   "execution_count": null,
   "metadata": {},
   "outputs": [],
   "source": [
    "rdd1 = sc.parallelize([('alpha', 1), ('beta', 2), ('gamma', 3), ('alpha', 5), ('beta', 6)], 3)\n",
    "DisplayRDD(rdd1)"
   ]
  },
  {
   "cell_type": "code",
   "execution_count": null,
   "metadata": {},
   "outputs": [],
   "source": [
    "rdd2 = sc.parallelize([('alpha', 'South Dakota'), ('beta', 'North Dakota'), ('zeta', 'Maryland'), ('beta', 'Washington')], 3)\n",
    "DisplayRDD(rdd2)"
   ]
  },
  {
   "cell_type": "markdown",
   "metadata": {},
   "source": [
    "Here is the definition of join from the programming guide.\n",
    "```\n",
    "When called on datasets of type (K, V) and (K, W), returns a dataset of (K, (V, W)) pairs with all pairs of elements for each key. Outer joins are supported through leftOuterJoin, rightOuterJoin, and fullOuterJoin. \n",
    "```\n",
    "We want to join on the first attributes, so we can just call join directly, otherwise a map may have been required."
   ]
  },
  {
   "cell_type": "code",
   "execution_count": null,
   "metadata": {},
   "outputs": [],
   "source": [
    "rdd3 = rdd1.join(rdd2)\n",
    "DisplayRDD(rdd3)"
   ]
  },
  {
   "cell_type": "markdown",
   "metadata": {},
   "source": [
    "There is a bunch of empty partitions. We could have controlled the number of partitions with an optional argument to join. But in any case, the output looks like what we were trying to do. Using `outerjoins` behaves as you would expect, with two extra tuples for fullOuterJoin."
   ]
  },
  {
   "cell_type": "code",
   "execution_count": null,
   "metadata": {},
   "outputs": [],
   "source": [
    "DisplayRDD(rdd1.fullOuterJoin(rdd2))"
   ]
  },
  {
   "cell_type": "markdown",
   "metadata": {},
   "source": [
    "`cogroup` is a related function, but basically creates two lists with each key. The `value` in that case is more complex, and our code above can't handle it. As we can see, there is a single object corresponding to each key, and the values are basically a pair of `iterables`."
   ]
  },
  {
   "cell_type": "code",
   "execution_count": null,
   "metadata": {},
   "outputs": [],
   "source": [
    "DisplayRDD(rdd1.cogroup(rdd2))"
   ]
  },
  {
   "cell_type": "markdown",
   "metadata": {},
   "source": [
    "### Basics 4\n",
    "\n",
    "Here we will run some of the commands from the README file. This uses an RDD created from the lines of README.md file. You can use the DisplayRDD function here, but the output is rather large."
   ]
  },
  {
   "cell_type": "code",
   "execution_count": null,
   "metadata": {},
   "outputs": [],
   "source": [
    "textFile = sc.textFile(\"README.md\", 10)"
   ]
  },
  {
   "cell_type": "code",
   "execution_count": null,
   "metadata": {},
   "outputs": [],
   "source": [
    "textFile.count()"
   ]
  },
  {
   "cell_type": "code",
   "execution_count": null,
   "metadata": {},
   "outputs": [],
   "source": [
    "textFile.take(5)"
   ]
  },
  {
   "cell_type": "markdown",
   "metadata": {},
   "source": [
    "As described in the README file, the following command does a word count, by first separating out the words using a `flatMap`, and then using a `reduceByKey`."
   ]
  },
  {
   "cell_type": "code",
   "execution_count": null,
   "metadata": {},
   "outputs": [],
   "source": [
    "counts = textFile.flatMap(lambda line: line.split(\" \")).map(lambda word: (word, 1)).reduceByKey(lambda a, b: a + b)\n",
    "DisplayRDD(counts)"
   ]
  },
  {
   "cell_type": "code",
   "execution_count": null,
   "metadata": {},
   "outputs": [],
   "source": []
  }
 ],
 "metadata": {
  "kernelspec": {
   "display_name": "Python 3",
   "language": "python",
   "name": "python3"
  },
  "language_info": {
   "codemirror_mode": {
    "name": "ipython",
    "version": 3
   },
   "file_extension": ".py",
   "mimetype": "text/x-python",
   "name": "python",
   "nbconvert_exporter": "python",
   "pygments_lexer": "ipython3",
   "version": "3.6.9"
  }
 },
 "nbformat": 4,
 "nbformat_minor": 1
}
